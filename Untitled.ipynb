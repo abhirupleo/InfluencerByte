{
 "cells": [
  {
   "cell_type": "code",
   "execution_count": 254,
   "metadata": {},
   "outputs": [],
   "source": [
    "path_youtube_laptop = \"Datas/darshil-youtube-scraping/data_laptop.csv\" #Path to the data for Youtube laptop specific videos\n",
    "path_youtube_mobile = \"Datas/darshil-youtube-scraping/data_mobile.csv\" #Path to the data for Youtube mobile specific videos\n",
    "path_youtube_tv = \"Datas/darshil-youtube-scraping/data_tv.csv\" #Path to the data for Youtube tv specific videos\n",
    "path_youtube_watch = \"Datas/darshil-youtube-scraping/data_watch.csv\" #Path to the data for Youtube watch specific videos"
   ]
  },
  {
   "cell_type": "code",
   "execution_count": 278,
   "metadata": {},
   "outputs": [],
   "source": [
    "path_podcast_patreon = \"Datas/jenny-podcasts/jmnieman-prototype/patreon.xls\" #Path to the data for Podcasts from patreon\n",
    "path_podcast_stitcher = \"Datas/jenny-podcasts/jmnieman-prototype/stitcher.xls\" #Path to the data for Podcasts from stitcher"
   ]
  },
  {
   "cell_type": "code",
   "execution_count": 256,
   "metadata": {},
   "outputs": [],
   "source": [
    "path_twitter_laptop = \"Datas/kavya-twitter/CleanDataAndSourceCode/laptop_scraped_tweets.csv\" #Path to the data for Twitter for laptop\n",
    "path_twitter_mobile = \"Datas/kavya-twitter/CleanDataAndSourceCode/mobile_scraped_tweets.csv\" #Path to the data for Twitter for mobile\n",
    "path_twitter_tv = \"Datas/kavya-twitter/CleanDataAndSourceCode/tv_scraped_tweets.csv\" #Path to the data for Twitter for tv\n",
    "path_twitter_watch = \"Datas/kavya-twitter/CleanDataAndSourceCode/smartwatch_scraped_tweets.csv\" #Path to the data for Twitter for watch"
   ]
  },
  {
   "cell_type": "code",
   "execution_count": 257,
   "metadata": {},
   "outputs": [],
   "source": [
    "import pandas as pd"
   ]
  },
  {
   "cell_type": "code",
   "execution_count": 258,
   "metadata": {},
   "outputs": [],
   "source": [
    "youtubeLaptopDataframe = pd.read_csv(path_youtube_laptop) #reading the youtube laptop data into a pandas dataframe\n",
    "youtubeMobileDataframe = pd.read_csv(path_youtube_mobile) #reading the youtube mobile data into a pandas dataframe\n",
    "youtubeTvDataframe = pd.read_csv(path_youtube_tv)         #reading the youtube tv data into a pandas dataframe\n",
    "youtubeWatchDataframe = pd.read_csv(path_youtube_watch)   #reading the youtube watch data into a pandas dataframe"
   ]
  },
  {
   "cell_type": "code",
   "execution_count": 259,
   "metadata": {},
   "outputs": [
    {
     "data": {
      "text/html": [
       "<div>\n",
       "<style scoped>\n",
       "    .dataframe tbody tr th:only-of-type {\n",
       "        vertical-align: middle;\n",
       "    }\n",
       "\n",
       "    .dataframe tbody tr th {\n",
       "        vertical-align: top;\n",
       "    }\n",
       "\n",
       "    .dataframe thead th {\n",
       "        text-align: right;\n",
       "    }\n",
       "</style>\n",
       "<table border=\"1\" class=\"dataframe\">\n",
       "  <thead>\n",
       "    <tr style=\"text-align: right;\">\n",
       "      <th></th>\n",
       "      <th>TITLE</th>\n",
       "      <th>CHANNEL</th>\n",
       "      <th>VIEWS</th>\n",
       "      <th>AGE</th>\n",
       "      <th>DESCRIPTION</th>\n",
       "    </tr>\n",
       "  </thead>\n",
       "  <tbody>\n",
       "    <tr>\n",
       "      <th>0</th>\n",
       "      <td>The Best LAPTOPS of 2020!</td>\n",
       "      <td>Hardware Canucks</td>\n",
       "      <td>308K views</td>\n",
       "      <td>3 months ago</td>\n",
       "      <td>There have been a lot of laptops released this...</td>\n",
       "    </tr>\n",
       "    <tr>\n",
       "      <th>1</th>\n",
       "      <td>Best &amp; Worst Laptops of 2020 !!</td>\n",
       "      <td>Just Josh</td>\n",
       "      <td>228K views</td>\n",
       "      <td>2 months ago</td>\n",
       "      <td>In 2020 there were some ground breaking laptop...</td>\n",
       "    </tr>\n",
       "    <tr>\n",
       "      <th>2</th>\n",
       "      <td>The Best Windows Laptop. Period. - Dell XPS 15...</td>\n",
       "      <td>Linus Tech Tips</td>\n",
       "      <td>2.2M views</td>\n",
       "      <td>7 months ago</td>\n",
       "      <td>At first glance the Dell XPS 15 and 17 could b...</td>\n",
       "    </tr>\n",
       "    <tr>\n",
       "      <th>3</th>\n",
       "      <td>The Best Laptops for 2020</td>\n",
       "      <td>PCMag</td>\n",
       "      <td>562K views</td>\n",
       "      <td>9 months ago</td>\n",
       "      <td>Shopping for a notebook is more than just pori...</td>\n",
       "    </tr>\n",
       "    <tr>\n",
       "      <th>4</th>\n",
       "      <td>10 Tips for Buying a Laptop! (2020) | The Tech...</td>\n",
       "      <td>The Tech Chap</td>\n",
       "      <td>1.8M views</td>\n",
       "      <td>1 year ago</td>\n",
       "      <td>Notice: [Paid Links] As an Amazon Associate I ...</td>\n",
       "    </tr>\n",
       "  </tbody>\n",
       "</table>\n",
       "</div>"
      ],
      "text/plain": [
       "                                               TITLE           CHANNEL  \\\n",
       "0                          The Best LAPTOPS of 2020!  Hardware Canucks   \n",
       "1                    Best & Worst Laptops of 2020 !!         Just Josh   \n",
       "2  The Best Windows Laptop. Period. - Dell XPS 15...   Linus Tech Tips   \n",
       "3                          The Best Laptops for 2020             PCMag   \n",
       "4  10 Tips for Buying a Laptop! (2020) | The Tech...     The Tech Chap   \n",
       "\n",
       "        VIEWS           AGE                                        DESCRIPTION  \n",
       "0  308K views  3 months ago  There have been a lot of laptops released this...  \n",
       "1  228K views  2 months ago  In 2020 there were some ground breaking laptop...  \n",
       "2  2.2M views  7 months ago  At first glance the Dell XPS 15 and 17 could b...  \n",
       "3  562K views  9 months ago  Shopping for a notebook is more than just pori...  \n",
       "4  1.8M views    1 year ago  Notice: [Paid Links] As an Amazon Associate I ...  "
      ]
     },
     "execution_count": 259,
     "metadata": {},
     "output_type": "execute_result"
    }
   ],
   "source": [
    "youtubeLaptopDataframe.head()"
   ]
  },
  {
   "cell_type": "code",
   "execution_count": 260,
   "metadata": {},
   "outputs": [],
   "source": [
    "def convertViewsToFloat(dataFrame):\n",
    "    floatView = []\n",
    "    index = 0\n",
    "    for row in dataFrame['VIEWS']:\n",
    "        stringValue = row[:-6] #stripping the word views from the column\n",
    "        #print(stringValue)\n",
    "        if stringValue.find('K') != -1: #checking if the string contains 'K' and converting it by multiplying with 10000\n",
    "            #print(stringValue[:-1])\n",
    "            pass\n",
    "            numericValue = float(stringValue[:-1]) * 1000\n",
    "            #print(round(numericValue,2))\n",
    "            floatView.append(numericValue)\n",
    "            dataFrame['VIEWS'][index] = numericValue\n",
    "        elif stringValue.find('M') != -1: #checking if the string contains 'M' and converting it by multiplying with 1000000\n",
    "            #print(stringValue[:-1])\n",
    "            numericValue = float(stringValue[:-1]) * 1000000\n",
    "            floatView.append(numericValue)\n",
    "            #print(round(numericValue,2))\n",
    "            dataFrame['VIEWS'][index] = numericValue\n",
    "        elif stringValue.find('No') != -1 | stringValue.find('') != -1: #checking if the viewer had No Views then just put 0\n",
    "            numericValue = 0\n",
    "            dataFrame['VIEWS'][index] = numericValue\n",
    "        else:\n",
    "            numericValue = float(stringValue)\n",
    "            dataFrame['VIEWS'][index] = numericValue            \n",
    "        index += 1 #increase the index"
   ]
  },
  {
   "cell_type": "code",
   "execution_count": 264,
   "metadata": {},
   "outputs": [],
   "source": [
    "#convertViewsToFloat(youtubeLaptopDataframe)\n",
    "#convertViewsToFloat(youtubeMobileDataframe)\n",
    "#convertViewsToFloat(youtubeTvDataframe)\n",
    "convertViewsToFloat(youtubeWatchDataframe)"
   ]
  },
  {
   "cell_type": "code",
   "execution_count": 269,
   "metadata": {},
   "outputs": [
    {
     "data": {
      "text/plain": [
       "count         314.0\n",
       "unique        241.0\n",
       "top       1400000.0\n",
       "freq            4.0\n",
       "Name: VIEWS, dtype: float64"
      ]
     },
     "execution_count": 269,
     "metadata": {},
     "output_type": "execute_result"
    }
   ],
   "source": [
    "youtubeWatchDataframe['VIEWS'].describe()"
   ]
  },
  {
   "cell_type": "code",
   "execution_count": 152,
   "metadata": {},
   "outputs": [
    {
     "data": {
      "text/plain": [
       "4500000.0"
      ]
     },
     "execution_count": 152,
     "metadata": {},
     "output_type": "execute_result"
    }
   ],
   "source": [
    "youtubeLaptopDataframe['VIEWS'].max()"
   ]
  },
  {
   "cell_type": "code",
   "execution_count": 279,
   "metadata": {},
   "outputs": [],
   "source": [
    "podcastStitcherDataframe = pd.read_excel(path_podcast_stitcher)\n",
    "podcastPatreonDataframe = pd.read_excel(path_podcast_patreon)"
   ]
  },
  {
   "cell_type": "code",
   "execution_count": 285,
   "metadata": {},
   "outputs": [
    {
     "data": {
      "text/plain": [
       "0     False\n",
       "1     False\n",
       "2     False\n",
       "3     False\n",
       "4     False\n",
       "5     False\n",
       "6     False\n",
       "7      True\n",
       "8     False\n",
       "9     False\n",
       "10    False\n",
       "11    False\n",
       "12    False\n",
       "13    False\n",
       "14    False\n",
       "15    False\n",
       "16    False\n",
       "17    False\n",
       "18    False\n",
       "19    False\n",
       "20    False\n",
       "21    False\n",
       "22    False\n",
       "23    False\n",
       "24    False\n",
       "25    False\n",
       "26    False\n",
       "27    False\n",
       "28    False\n",
       "29    False\n",
       "30    False\n",
       "31    False\n",
       "32    False\n",
       "33    False\n",
       "34    False\n",
       "35    False\n",
       "36    False\n",
       "37    False\n",
       "38    False\n",
       "39    False\n",
       "40    False\n",
       "41    False\n",
       "42    False\n",
       "43    False\n",
       "44    False\n",
       "45    False\n",
       "46    False\n",
       "47    False\n",
       "48    False\n",
       "49    False\n",
       "50    False\n",
       "51    False\n",
       "52     True\n",
       "53    False\n",
       "Name: PODCAST DESCRIPTION, dtype: bool"
      ]
     },
     "execution_count": 285,
     "metadata": {},
     "output_type": "execute_result"
    }
   ],
   "source": [
    "podcastPatreonDataframe['PODCAST DESCRIPTION'].str.contains('Technology')"
   ]
  },
  {
   "cell_type": "code",
   "execution_count": 287,
   "metadata": {},
   "outputs": [
    {
     "data": {
      "text/plain": [
       "0     False\n",
       "1     False\n",
       "2     False\n",
       "3     False\n",
       "4     False\n",
       "5     False\n",
       "6     False\n",
       "7     False\n",
       "8     False\n",
       "9     False\n",
       "10    False\n",
       "11    False\n",
       "12    False\n",
       "13    False\n",
       "14    False\n",
       "15    False\n",
       "16    False\n",
       "17    False\n",
       "18    False\n",
       "19    False\n",
       "20    False\n",
       "21    False\n",
       "22    False\n",
       "23    False\n",
       "24    False\n",
       "25    False\n",
       "26    False\n",
       "27    False\n",
       "28    False\n",
       "29    False\n",
       "30    False\n",
       "31    False\n",
       "32    False\n",
       "33    False\n",
       "34    False\n",
       "35    False\n",
       "36     True\n",
       "37    False\n",
       "38     True\n",
       "39    False\n",
       "40    False\n",
       "41    False\n",
       "42    False\n",
       "43    False\n",
       "44    False\n",
       "45    False\n",
       "46    False\n",
       "47    False\n",
       "48    False\n",
       "49    False\n",
       "50    False\n",
       "51    False\n",
       "52    False\n",
       "53    False\n",
       "Name: PODCAST TITLE, dtype: bool"
      ]
     },
     "execution_count": 287,
     "metadata": {},
     "output_type": "execute_result"
    }
   ],
   "source": [
    "podcastPatreonDataframe['PODCAST TITLE'].str.contains('Technology')"
   ]
  },
  {
   "cell_type": "code",
   "execution_count": null,
   "metadata": {},
   "outputs": [],
   "source": []
  }
 ],
 "metadata": {
  "kernelspec": {
   "display_name": "Python 3",
   "language": "python",
   "name": "python3"
  },
  "language_info": {
   "codemirror_mode": {
    "name": "ipython",
    "version": 3
   },
   "file_extension": ".py",
   "mimetype": "text/x-python",
   "name": "python",
   "nbconvert_exporter": "python",
   "pygments_lexer": "ipython3",
   "version": "3.8.5"
  }
 },
 "nbformat": 4,
 "nbformat_minor": 4
}
