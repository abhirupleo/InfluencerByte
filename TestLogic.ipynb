{
 "cells": [
  {
   "cell_type": "code",
   "execution_count": 2,
   "metadata": {},
   "outputs": [],
   "source": [
    "path_youtube_laptop = \"Datas/darshil-youtube-scraping/data_laptop.csv\" #Path to the data for Youtube laptop specific videos\n",
    "path_youtube_mobile = \"Datas/darshil-youtube-scraping/data_mobile.csv\" #Path to the data for Youtube mobile specific videos\n",
    "path_youtube_tv = \"Datas/darshil-youtube-scraping/data_tv.csv\" #Path to the data for Youtube tv specific videos\n",
    "path_youtube_watch = \"Datas/darshil-youtube-scraping/data_watch.csv\" #Path to the data for Youtube watch specific videos"
   ]
  },
  {
   "cell_type": "code",
   "execution_count": 3,
   "metadata": {},
   "outputs": [],
   "source": [
    "path_podcast_patreon = \"Datas/jenny-podcasts/jmnieman-prototype/patreon.xls\" #Path to the data for Podcasts from patreon\n",
    "path_podcast_stitcher = \"Datas/jenny-podcasts/jmnieman-prototype/stitcher.xls\" #Path to the data for Podcasts from stitcher"
   ]
  },
  {
   "cell_type": "code",
   "execution_count": 4,
   "metadata": {},
   "outputs": [],
   "source": [
    "path_twitter_laptop = \"Datas/kavya-twitter/CleanDataAndSourceCode/laptop_scraped_tweets.csv\" #Path to the data for Twitter for laptop\n",
    "path_twitter_mobile = \"Datas/kavya-twitter/CleanDataAndSourceCode/mobile_scraped_tweets.csv\" #Path to the data for Twitter for mobile\n",
    "path_twitter_tv = \"Datas/kavya-twitter/CleanDataAndSourceCode/tv_scraped_tweets.csv\" #Path to the data for Twitter for tv\n",
    "path_twitter_watch = \"Datas/kavya-twitter/CleanDataAndSourceCode/smartwatch_scraped_tweets.csv\" #Path to the data for Twitter for watch"
   ]
  },
  {
   "cell_type": "code",
   "execution_count": 5,
   "metadata": {},
   "outputs": [],
   "source": [
    "import pandas as pd"
   ]
  },
  {
   "cell_type": "code",
   "execution_count": 6,
   "metadata": {},
   "outputs": [],
   "source": [
    "youtubeLaptopDataframe = pd.read_csv(path_youtube_laptop) #reading the youtube laptop data into a pandas dataframe\n",
    "youtubeMobileDataframe = pd.read_csv(path_youtube_mobile) #reading the youtube mobile data into a pandas dataframe\n",
    "youtubeTvDataframe = pd.read_csv(path_youtube_tv)         #reading the youtube tv data into a pandas dataframe\n",
    "youtubeWatchDataframe = pd.read_csv(path_youtube_watch)   #reading the youtube watch data into a pandas dataframe"
   ]
  },
  {
   "cell_type": "code",
   "execution_count": 7,
   "metadata": {},
   "outputs": [
    {
     "data": {
      "text/html": [
       "<div>\n",
       "<style scoped>\n",
       "    .dataframe tbody tr th:only-of-type {\n",
       "        vertical-align: middle;\n",
       "    }\n",
       "\n",
       "    .dataframe tbody tr th {\n",
       "        vertical-align: top;\n",
       "    }\n",
       "\n",
       "    .dataframe thead th {\n",
       "        text-align: right;\n",
       "    }\n",
       "</style>\n",
       "<table border=\"1\" class=\"dataframe\">\n",
       "  <thead>\n",
       "    <tr style=\"text-align: right;\">\n",
       "      <th></th>\n",
       "      <th>TITLE</th>\n",
       "      <th>CHANNEL</th>\n",
       "      <th>VIEWS</th>\n",
       "      <th>AGE</th>\n",
       "      <th>DESCRIPTION</th>\n",
       "    </tr>\n",
       "  </thead>\n",
       "  <tbody>\n",
       "    <tr>\n",
       "      <th>0</th>\n",
       "      <td>The Best LAPTOPS of 2020!</td>\n",
       "      <td>Hardware Canucks</td>\n",
       "      <td>308K views</td>\n",
       "      <td>3 months ago</td>\n",
       "      <td>There have been a lot of laptops released this...</td>\n",
       "    </tr>\n",
       "    <tr>\n",
       "      <th>1</th>\n",
       "      <td>Best &amp; Worst Laptops of 2020 !!</td>\n",
       "      <td>Just Josh</td>\n",
       "      <td>228K views</td>\n",
       "      <td>2 months ago</td>\n",
       "      <td>In 2020 there were some ground breaking laptop...</td>\n",
       "    </tr>\n",
       "    <tr>\n",
       "      <th>2</th>\n",
       "      <td>The Best Windows Laptop. Period. - Dell XPS 15...</td>\n",
       "      <td>Linus Tech Tips</td>\n",
       "      <td>2.2M views</td>\n",
       "      <td>7 months ago</td>\n",
       "      <td>At first glance the Dell XPS 15 and 17 could b...</td>\n",
       "    </tr>\n",
       "    <tr>\n",
       "      <th>3</th>\n",
       "      <td>The Best Laptops for 2020</td>\n",
       "      <td>PCMag</td>\n",
       "      <td>562K views</td>\n",
       "      <td>9 months ago</td>\n",
       "      <td>Shopping for a notebook is more than just pori...</td>\n",
       "    </tr>\n",
       "    <tr>\n",
       "      <th>4</th>\n",
       "      <td>10 Tips for Buying a Laptop! (2020) | The Tech...</td>\n",
       "      <td>The Tech Chap</td>\n",
       "      <td>1.8M views</td>\n",
       "      <td>1 year ago</td>\n",
       "      <td>Notice: [Paid Links] As an Amazon Associate I ...</td>\n",
       "    </tr>\n",
       "  </tbody>\n",
       "</table>\n",
       "</div>"
      ],
      "text/plain": [
       "                                               TITLE           CHANNEL  \\\n",
       "0                          The Best LAPTOPS of 2020!  Hardware Canucks   \n",
       "1                    Best & Worst Laptops of 2020 !!         Just Josh   \n",
       "2  The Best Windows Laptop. Period. - Dell XPS 15...   Linus Tech Tips   \n",
       "3                          The Best Laptops for 2020             PCMag   \n",
       "4  10 Tips for Buying a Laptop! (2020) | The Tech...     The Tech Chap   \n",
       "\n",
       "        VIEWS           AGE                                        DESCRIPTION  \n",
       "0  308K views  3 months ago  There have been a lot of laptops released this...  \n",
       "1  228K views  2 months ago  In 2020 there were some ground breaking laptop...  \n",
       "2  2.2M views  7 months ago  At first glance the Dell XPS 15 and 17 could b...  \n",
       "3  562K views  9 months ago  Shopping for a notebook is more than just pori...  \n",
       "4  1.8M views    1 year ago  Notice: [Paid Links] As an Amazon Associate I ...  "
      ]
     },
     "execution_count": 7,
     "metadata": {},
     "output_type": "execute_result"
    }
   ],
   "source": [
    "youtubeLaptopDataframe.head()"
   ]
  },
  {
   "cell_type": "code",
   "execution_count": 8,
   "metadata": {},
   "outputs": [],
   "source": [
    "def convertViewsToFloat(dataFrame):\n",
    "    floatView = []\n",
    "    index = 0\n",
    "    for row in dataFrame['VIEWS']:\n",
    "        stringValue = row[:-6] #stripping the word views from the column\n",
    "        #print(stringValue)\n",
    "        if stringValue.find('K') != -1: #checking if the string contains 'K' and converting it by multiplying with 10000\n",
    "            #print(stringValue[:-1])\n",
    "            pass\n",
    "            numericValue = float(stringValue[:-1]) * 1000\n",
    "            #print(round(numericValue,2))\n",
    "            floatView.append(numericValue)\n",
    "            dataFrame['VIEWS'][index] = numericValue\n",
    "        elif stringValue.find('M') != -1: #checking if the string contains 'M' and converting it by multiplying with 1000000\n",
    "            #print(stringValue[:-1])\n",
    "            numericValue = float(stringValue[:-1]) * 1000000\n",
    "            floatView.append(numericValue)\n",
    "            #print(round(numericValue,2))\n",
    "            dataFrame['VIEWS'][index] = numericValue\n",
    "        elif stringValue.find('No') != -1 or stringValue.find('') != -1: #checking if the viewer had No Views then just put 0\n",
    "            numericValue = 0\n",
    "            dataFrame['VIEWS'][index] = numericValue\n",
    "        else:\n",
    "            numericValue = float(stringValue)\n",
    "            dataFrame['VIEWS'][index] = numericValue            \n",
    "        index += 1 #increase the index"
   ]
  },
  {
   "cell_type": "code",
   "execution_count": 9,
   "metadata": {},
   "outputs": [],
   "source": [
    "convertViewsToFloat(youtubeLaptopDataframe)\n",
    "convertViewsToFloat(youtubeMobileDataframe)\n",
    "convertViewsToFloat(youtubeTvDataframe)\n",
    "convertViewsToFloat(youtubeWatchDataframe)"
   ]
  },
  {
   "cell_type": "code",
   "execution_count": 10,
   "metadata": {},
   "outputs": [
    {
     "data": {
      "text/plain": [
       "count     314.0\n",
       "unique    234.0\n",
       "top         0.0\n",
       "freq        8.0\n",
       "Name: VIEWS, dtype: float64"
      ]
     },
     "execution_count": 10,
     "metadata": {},
     "output_type": "execute_result"
    }
   ],
   "source": [
    "youtubeWatchDataframe['VIEWS'].describe()"
   ]
  },
  {
   "cell_type": "code",
   "execution_count": 11,
   "metadata": {},
   "outputs": [
    {
     "data": {
      "text/plain": [
       "4500000.0"
      ]
     },
     "execution_count": 11,
     "metadata": {},
     "output_type": "execute_result"
    }
   ],
   "source": [
    "youtubeLaptopDataframe['VIEWS'].max()"
   ]
  },
  {
   "cell_type": "code",
   "execution_count": 12,
   "metadata": {},
   "outputs": [],
   "source": [
    "podcastStitcherDataframe = pd.read_excel(path_podcast_stitcher)\n",
    "podcastPatreonDataframe = pd.read_excel(path_podcast_patreon)"
   ]
  },
  {
   "cell_type": "code",
   "execution_count": 13,
   "metadata": {},
   "outputs": [
    {
     "data": {
      "text/html": [
       "<div>\n",
       "<style scoped>\n",
       "    .dataframe tbody tr th:only-of-type {\n",
       "        vertical-align: middle;\n",
       "    }\n",
       "\n",
       "    .dataframe tbody tr th {\n",
       "        vertical-align: top;\n",
       "    }\n",
       "\n",
       "    .dataframe thead th {\n",
       "        text-align: right;\n",
       "    }\n",
       "</style>\n",
       "<table border=\"1\" class=\"dataframe\">\n",
       "  <thead>\n",
       "    <tr style=\"text-align: right;\">\n",
       "      <th></th>\n",
       "      <th>PODCAST TITLE</th>\n",
       "      <th>PODCAST DESCRIPTION</th>\n",
       "      <th>PODCAST SUBS</th>\n",
       "      <th>MONTHLY REV</th>\n",
       "    </tr>\n",
       "  </thead>\n",
       "  <tbody>\n",
       "    <tr>\n",
       "      <th>7</th>\n",
       "      <td>Angus Deveson</td>\n",
       "      <td>Because I'm awesome. No, actually to support n...</td>\n",
       "      <td>721</td>\n",
       "      <td>-</td>\n",
       "    </tr>\n",
       "    <tr>\n",
       "      <th>52</th>\n",
       "      <td>Angus Deveson</td>\n",
       "      <td>Because I'm awesome. No, actually to support n...</td>\n",
       "      <td>717</td>\n",
       "      <td>-</td>\n",
       "    </tr>\n",
       "  </tbody>\n",
       "</table>\n",
       "</div>"
      ],
      "text/plain": [
       "    PODCAST TITLE                                PODCAST DESCRIPTION  \\\n",
       "7   Angus Deveson  Because I'm awesome. No, actually to support n...   \n",
       "52  Angus Deveson  Because I'm awesome. No, actually to support n...   \n",
       "\n",
       "   PODCAST SUBS MONTHLY REV  \n",
       "7           721           -  \n",
       "52          717           -  "
      ]
     },
     "execution_count": 13,
     "metadata": {},
     "output_type": "execute_result"
    }
   ],
   "source": [
    "podcastPatreonDataframe[podcastPatreonDataframe['PODCAST DESCRIPTION'].str.contains('Technology' or 'Tech')]"
   ]
  },
  {
   "cell_type": "code",
   "execution_count": 14,
   "metadata": {},
   "outputs": [
    {
     "data": {
      "text/html": [
       "<div>\n",
       "<style scoped>\n",
       "    .dataframe tbody tr th:only-of-type {\n",
       "        vertical-align: middle;\n",
       "    }\n",
       "\n",
       "    .dataframe tbody tr th {\n",
       "        vertical-align: top;\n",
       "    }\n",
       "\n",
       "    .dataframe thead th {\n",
       "        text-align: right;\n",
       "    }\n",
       "</style>\n",
       "<table border=\"1\" class=\"dataframe\">\n",
       "  <thead>\n",
       "    <tr style=\"text-align: right;\">\n",
       "      <th></th>\n",
       "      <th>PODCAST TITLE</th>\n",
       "      <th>PODCAST DESCRIPTION</th>\n",
       "      <th>PODCAST SUBS</th>\n",
       "      <th>MONTHLY REV</th>\n",
       "    </tr>\n",
       "  </thead>\n",
       "  <tbody>\n",
       "    <tr>\n",
       "      <th>36</th>\n",
       "      <td>Technology Connections</td>\n",
       "      <td>Greetings, and thank you for stopping by my Pa...</td>\n",
       "      <td>5,786</td>\n",
       "      <td>$14,947</td>\n",
       "    </tr>\n",
       "    <tr>\n",
       "      <th>38</th>\n",
       "      <td>Primitive Technology</td>\n",
       "      <td>I make videos about making things entirely fro...</td>\n",
       "      <td>2,255</td>\n",
       "      <td>$4,343</td>\n",
       "    </tr>\n",
       "  </tbody>\n",
       "</table>\n",
       "</div>"
      ],
      "text/plain": [
       "             PODCAST TITLE                                PODCAST DESCRIPTION  \\\n",
       "36  Technology Connections  Greetings, and thank you for stopping by my Pa...   \n",
       "38    Primitive Technology  I make videos about making things entirely fro...   \n",
       "\n",
       "   PODCAST SUBS MONTHLY REV  \n",
       "36        5,786     $14,947  \n",
       "38        2,255      $4,343  "
      ]
     },
     "execution_count": 14,
     "metadata": {},
     "output_type": "execute_result"
    }
   ],
   "source": [
    "podcastPatreonDataframe[podcastPatreonDataframe['PODCAST TITLE'].str.contains('Technology' or 'Tech')]"
   ]
  },
  {
   "cell_type": "code",
   "execution_count": 15,
   "metadata": {},
   "outputs": [
    {
     "data": {
      "text/html": [
       "<div>\n",
       "<style scoped>\n",
       "    .dataframe tbody tr th:only-of-type {\n",
       "        vertical-align: middle;\n",
       "    }\n",
       "\n",
       "    .dataframe tbody tr th {\n",
       "        vertical-align: top;\n",
       "    }\n",
       "\n",
       "    .dataframe thead th {\n",
       "        text-align: right;\n",
       "    }\n",
       "</style>\n",
       "<table border=\"1\" class=\"dataframe\">\n",
       "  <thead>\n",
       "    <tr style=\"text-align: right;\">\n",
       "      <th></th>\n",
       "      <th>PODCAST TITLE</th>\n",
       "      <th>PODCAST DESCRIPTION</th>\n",
       "    </tr>\n",
       "  </thead>\n",
       "  <tbody>\n",
       "    <tr>\n",
       "      <th>0</th>\n",
       "      <td>Talking Tech</td>\n",
       "      <td>Your daily consumer tech news update, plus the...</td>\n",
       "    </tr>\n",
       "    <tr>\n",
       "      <th>1</th>\n",
       "      <td>Tech</td>\n",
       "      <td>The world of technology \\nCover art photo prov...</td>\n",
       "    </tr>\n",
       "    <tr>\n",
       "      <th>2</th>\n",
       "      <td>Tech</td>\n",
       "      <td>The world of technology \\nCover art photo prov...</td>\n",
       "    </tr>\n",
       "    <tr>\n",
       "      <th>3</th>\n",
       "      <td>Marketplace Tech</td>\n",
       "      <td>Hosted by Molly Wood, “Marketplace Tech” demys...</td>\n",
       "    </tr>\n",
       "    <tr>\n",
       "      <th>4</th>\n",
       "      <td>WSJ Tech News Briefing</td>\n",
       "      <td>Get the latest in technology news for your wee...</td>\n",
       "    </tr>\n",
       "  </tbody>\n",
       "</table>\n",
       "</div>"
      ],
      "text/plain": [
       "            PODCAST TITLE                                PODCAST DESCRIPTION\n",
       "0            Talking Tech  Your daily consumer tech news update, plus the...\n",
       "1                    Tech  The world of technology \\nCover art photo prov...\n",
       "2                    Tech  The world of technology \\nCover art photo prov...\n",
       "3        Marketplace Tech  Hosted by Molly Wood, “Marketplace Tech” demys...\n",
       "4  WSJ Tech News Briefing  Get the latest in technology news for your wee..."
      ]
     },
     "execution_count": 15,
     "metadata": {},
     "output_type": "execute_result"
    }
   ],
   "source": [
    "podcastStitcherDataframe.head()"
   ]
  },
  {
   "cell_type": "code",
   "execution_count": 16,
   "metadata": {},
   "outputs": [],
   "source": [
    "twitterLaptopDataframe = pd.read_csv(path_twitter_laptop)\n",
    "twitterMobileDataframe = pd.read_csv(path_twitter_mobile)\n",
    "twitterTVDataframe = pd.read_csv(path_twitter_tv)\n",
    "twitterWatchDataframe = pd.read_csv(path_twitter_watch)"
   ]
  },
  {
   "cell_type": "code",
   "execution_count": 17,
   "metadata": {},
   "outputs": [
    {
     "data": {
      "text/html": [
       "<div>\n",
       "<style scoped>\n",
       "    .dataframe tbody tr th:only-of-type {\n",
       "        vertical-align: middle;\n",
       "    }\n",
       "\n",
       "    .dataframe tbody tr th {\n",
       "        vertical-align: top;\n",
       "    }\n",
       "\n",
       "    .dataframe thead th {\n",
       "        text-align: right;\n",
       "    }\n",
       "</style>\n",
       "<table border=\"1\" class=\"dataframe\">\n",
       "  <thead>\n",
       "    <tr style=\"text-align: right;\">\n",
       "      <th></th>\n",
       "      <th>Unnamed: 0</th>\n",
       "      <th>Username</th>\n",
       "      <th>Description</th>\n",
       "      <th>Location</th>\n",
       "      <th>Followers</th>\n",
       "      <th>Following</th>\n",
       "      <th>TotalTweets</th>\n",
       "      <th>RetweetCount</th>\n",
       "      <th>DateTime</th>\n",
       "      <th>FullTweetText</th>\n",
       "      <th>Hashtags</th>\n",
       "    </tr>\n",
       "  </thead>\n",
       "  <tbody>\n",
       "    <tr>\n",
       "      <th>0</th>\n",
       "      <td>0</td>\n",
       "      <td>PCPlanetNigeria</td>\n",
       "      <td>https://t.co/5gzFLCOIZq is Nigeria’s leading o...</td>\n",
       "      <td>Lagos, NG</td>\n",
       "      <td>671</td>\n",
       "      <td>429</td>\n",
       "      <td>2713</td>\n",
       "      <td>0</td>\n",
       "      <td>07-12-12 10:18</td>\n",
       "      <td>Cheers to women and their relentless efforts!\\...</td>\n",
       "      <td>['pcplanetnigeria', 'phone', 'laptop', 'lenovo...</td>\n",
       "    </tr>\n",
       "    <tr>\n",
       "      <th>1</th>\n",
       "      <td>1</td>\n",
       "      <td>ismasaleem</td>\n",
       "      <td>I am designer &amp; Amazon Influencer\\n@ismasaleem...</td>\n",
       "      <td>NaN</td>\n",
       "      <td>1910</td>\n",
       "      <td>1642</td>\n",
       "      <td>11159</td>\n",
       "      <td>1</td>\n",
       "      <td>07-07-17 7:00</td>\n",
       "      <td>RT @ismasaleemshop: Deal Alert\\nUp to 32% off ...</td>\n",
       "      <td>['Amazon', 'ad', 'Razer']</td>\n",
       "    </tr>\n",
       "    <tr>\n",
       "      <th>2</th>\n",
       "      <td>2</td>\n",
       "      <td>ismasaleem</td>\n",
       "      <td>I am designer &amp; Amazon Influencer\\n@ismasaleem...</td>\n",
       "      <td>NaN</td>\n",
       "      <td>1910</td>\n",
       "      <td>1642</td>\n",
       "      <td>11159</td>\n",
       "      <td>1</td>\n",
       "      <td>07-07-17 7:00</td>\n",
       "      <td>RT @ismasaleemshop: Deal Alert\\nGys there is \\...</td>\n",
       "      <td>['Amazon', 'ad', 'Deals', 'deal', 'amazondeals']</td>\n",
       "    </tr>\n",
       "    <tr>\n",
       "      <th>3</th>\n",
       "      <td>3</td>\n",
       "      <td>ismasaleemshop</td>\n",
       "      <td>I am Amazon Associate| Amazon Influencer. Also...</td>\n",
       "      <td>NaN</td>\n",
       "      <td>193</td>\n",
       "      <td>273</td>\n",
       "      <td>1112</td>\n",
       "      <td>1</td>\n",
       "      <td>01-07-19 10:14</td>\n",
       "      <td>Deal Alert\\nGys there is \\nUp to 32% off on Ra...</td>\n",
       "      <td>['Amazon', 'ad', 'Deals', 'deal', 'amazondeals...</td>\n",
       "    </tr>\n",
       "    <tr>\n",
       "      <th>4</th>\n",
       "      <td>4</td>\n",
       "      <td>ismasaleemshop</td>\n",
       "      <td>I am Amazon Associate| Amazon Influencer. Also...</td>\n",
       "      <td>NaN</td>\n",
       "      <td>193</td>\n",
       "      <td>273</td>\n",
       "      <td>1112</td>\n",
       "      <td>1</td>\n",
       "      <td>01-07-19 10:14</td>\n",
       "      <td>Deal Alert\\nUp to 32% off Razer Gaming Laptops...</td>\n",
       "      <td>['Amazon', 'ad', 'Razer', 'gaming', 'gaminglap...</td>\n",
       "    </tr>\n",
       "  </tbody>\n",
       "</table>\n",
       "</div>"
      ],
      "text/plain": [
       "   Unnamed: 0         Username  \\\n",
       "0           0  PCPlanetNigeria   \n",
       "1           1       ismasaleem   \n",
       "2           2       ismasaleem   \n",
       "3           3   ismasaleemshop   \n",
       "4           4   ismasaleemshop   \n",
       "\n",
       "                                         Description   Location  Followers  \\\n",
       "0  https://t.co/5gzFLCOIZq is Nigeria’s leading o...  Lagos, NG        671   \n",
       "1  I am designer & Amazon Influencer\\n@ismasaleem...        NaN       1910   \n",
       "2  I am designer & Amazon Influencer\\n@ismasaleem...        NaN       1910   \n",
       "3  I am Amazon Associate| Amazon Influencer. Also...        NaN        193   \n",
       "4  I am Amazon Associate| Amazon Influencer. Also...        NaN        193   \n",
       "\n",
       "   Following  TotalTweets  RetweetCount        DateTime  \\\n",
       "0        429         2713             0  07-12-12 10:18   \n",
       "1       1642        11159             1   07-07-17 7:00   \n",
       "2       1642        11159             1   07-07-17 7:00   \n",
       "3        273         1112             1  01-07-19 10:14   \n",
       "4        273         1112             1  01-07-19 10:14   \n",
       "\n",
       "                                       FullTweetText  \\\n",
       "0  Cheers to women and their relentless efforts!\\...   \n",
       "1  RT @ismasaleemshop: Deal Alert\\nUp to 32% off ...   \n",
       "2  RT @ismasaleemshop: Deal Alert\\nGys there is \\...   \n",
       "3  Deal Alert\\nGys there is \\nUp to 32% off on Ra...   \n",
       "4  Deal Alert\\nUp to 32% off Razer Gaming Laptops...   \n",
       "\n",
       "                                            Hashtags  \n",
       "0  ['pcplanetnigeria', 'phone', 'laptop', 'lenovo...  \n",
       "1                          ['Amazon', 'ad', 'Razer']  \n",
       "2   ['Amazon', 'ad', 'Deals', 'deal', 'amazondeals']  \n",
       "3  ['Amazon', 'ad', 'Deals', 'deal', 'amazondeals...  \n",
       "4  ['Amazon', 'ad', 'Razer', 'gaming', 'gaminglap...  "
      ]
     },
     "execution_count": 17,
     "metadata": {},
     "output_type": "execute_result"
    }
   ],
   "source": [
    "twitterLaptopDataframe.head()"
   ]
  },
  {
   "cell_type": "code",
   "execution_count": 18,
   "metadata": {},
   "outputs": [],
   "source": [
    "def findTwitterInfluencer(term):\n",
    "    indexList = []\n",
    "    indexList = twitterLaptopDataframe['FullTweetText'].str.contains('Technology' or 'Tech')\n",
    "    twitterLaptopDataframe[indexList]"
   ]
  },
  {
   "cell_type": "code",
   "execution_count": 21,
   "metadata": {},
   "outputs": [],
   "source": [
    "twitterResultDataframe = twitterLaptopDataframe[twitterLaptopDataframe['FullTweetText'].str.contains('Laptop' or 'Technology')]"
   ]
  },
  {
   "cell_type": "code",
   "execution_count": 27,
   "metadata": {},
   "outputs": [
    {
     "data": {
      "text/html": [
       "<div>\n",
       "<style scoped>\n",
       "    .dataframe tbody tr th:only-of-type {\n",
       "        vertical-align: middle;\n",
       "    }\n",
       "\n",
       "    .dataframe tbody tr th {\n",
       "        vertical-align: top;\n",
       "    }\n",
       "\n",
       "    .dataframe thead th {\n",
       "        text-align: right;\n",
       "    }\n",
       "</style>\n",
       "<table border=\"1\" class=\"dataframe\">\n",
       "  <thead>\n",
       "    <tr style=\"text-align: right;\">\n",
       "      <th></th>\n",
       "      <th>Unnamed: 0</th>\n",
       "      <th>Username</th>\n",
       "      <th>Description</th>\n",
       "      <th>Location</th>\n",
       "      <th>Followers</th>\n",
       "      <th>Following</th>\n",
       "      <th>TotalTweets</th>\n",
       "      <th>RetweetCount</th>\n",
       "      <th>DateTime</th>\n",
       "      <th>FullTweetText</th>\n",
       "      <th>Hashtags</th>\n",
       "    </tr>\n",
       "  </thead>\n",
       "  <tbody>\n",
       "    <tr>\n",
       "      <th>13</th>\n",
       "      <td>13</td>\n",
       "      <td>AustraliaMSI</td>\n",
       "      <td>MSI is a world leader in gaming, content creat...</td>\n",
       "      <td>Australia</td>\n",
       "      <td>42541</td>\n",
       "      <td>181</td>\n",
       "      <td>3486</td>\n",
       "      <td>1</td>\n",
       "      <td>10-11-15 4:27</td>\n",
       "      <td>#Cyberpunk2077 Gaming Mode is available now on...</td>\n",
       "      <td>['Cyberpunk2077', 'MSI', 'GS66', 'Laptop']</td>\n",
       "    </tr>\n",
       "  </tbody>\n",
       "</table>\n",
       "</div>"
      ],
      "text/plain": [
       "    Unnamed: 0      Username  \\\n",
       "13          13  AustraliaMSI   \n",
       "\n",
       "                                          Description   Location  Followers  \\\n",
       "13  MSI is a world leader in gaming, content creat...  Australia      42541   \n",
       "\n",
       "    Following  TotalTweets  RetweetCount       DateTime  \\\n",
       "13        181         3486             1  10-11-15 4:27   \n",
       "\n",
       "                                        FullTweetText  \\\n",
       "13  #Cyberpunk2077 Gaming Mode is available now on...   \n",
       "\n",
       "                                      Hashtags  \n",
       "13  ['Cyberpunk2077', 'MSI', 'GS66', 'Laptop']  "
      ]
     },
     "execution_count": 27,
     "metadata": {},
     "output_type": "execute_result"
    }
   ],
   "source": [
    "twitterResultDataframe[twitterResultDataframe.Followers == twitterResultDataframe.Followers.max()]"
   ]
  },
  {
   "cell_type": "code",
   "execution_count": null,
   "metadata": {},
   "outputs": [],
   "source": []
  }
 ],
 "metadata": {
  "kernelspec": {
   "display_name": "Python 3",
   "language": "python",
   "name": "python3"
  },
  "language_info": {
   "codemirror_mode": {
    "name": "ipython",
    "version": 3
   },
   "file_extension": ".py",
   "mimetype": "text/x-python",
   "name": "python",
   "nbconvert_exporter": "python",
   "pygments_lexer": "ipython3",
   "version": "3.8.5"
  }
 },
 "nbformat": 4,
 "nbformat_minor": 4
}
